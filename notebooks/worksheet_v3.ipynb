{
 "cells": [
  {
   "cell_type": "code",
   "id": "initial_id",
   "metadata": {
    "collapsed": true,
    "ExecuteTime": {
     "end_time": "2024-07-15T16:27:39.932528Z",
     "start_time": "2024-07-15T16:27:39.929943Z"
    }
   },
   "source": "# interactions with the api",
   "outputs": [],
   "execution_count": 1
  },
  {
   "metadata": {
    "ExecuteTime": {
     "end_time": "2024-07-15T16:58:33.864784Z",
     "start_time": "2024-07-15T16:58:33.860553Z"
    }
   },
   "cell_type": "code",
   "source": [
    "import requests\n",
    "from speech_recognition import Recognizer, Microphone, UnknownValueError, RequestError\n",
    "\n",
    "\n",
    "def human_stt():\n",
    "    recognizer = Recognizer()\n",
    "    with Microphone() as source:\n",
    "        audio = recognizer.listen(source)\n",
    "        try:\n",
    "            stt_output = recognizer.recognize_google(audio)\n",
    "        except UnknownValueError:\n",
    "            print(\"Google Speech Recognition could not understand audio\")\n",
    "        except RequestError as e:\n",
    "            print(f\"Could not request results from Google Speech Recognition service: {e}\")\n",
    "    return stt_output"
   ],
   "id": "b06bda078f0b7248",
   "outputs": [],
   "execution_count": 25
  },
  {
   "metadata": {
    "ExecuteTime": {
     "end_time": "2024-07-15T16:58:34.565502Z",
     "start_time": "2024-07-15T16:58:34.562731Z"
    }
   },
   "cell_type": "code",
   "source": [
    "def ai_response(stt_output):\n",
    "    session_id = \"martinoywa\"\n",
    "    response = requests.post(f\"http://127.0.0.1:8000/api/v1/chat?message={stt_output}&session_id={session_id}\")\n",
    "    if response.status_code == 200:\n",
    "        return  response.json()\n",
    "    else:\n",
    "        return  \"Failed to get response:\", response.status_code, response.text"
   ],
   "id": "ffa9e45ef4d07d17",
   "outputs": [],
   "execution_count": 26
  },
  {
   "metadata": {
    "ExecuteTime": {
     "end_time": "2024-07-15T16:58:37.844037Z",
     "start_time": "2024-07-15T16:58:37.841045Z"
    }
   },
   "cell_type": "code",
   "source": [
    "import pyttsx3\n",
    "\n",
    "\n",
    "def ai_tts(response):\n",
    "    engine = pyttsx3.init()\n",
    "    engine.say(response[\"response\"])\n",
    "    engine.runAndWait()\n",
    "    engine.stop()"
   ],
   "id": "88f25afbad73ba74",
   "outputs": [],
   "execution_count": 27
  },
  {
   "metadata": {
    "ExecuteTime": {
     "end_time": "2024-07-15T16:58:45.537362Z",
     "start_time": "2024-07-15T16:58:38.769411Z"
    }
   },
   "cell_type": "code",
   "source": [
    "stt_output = human_stt()\n",
    "stt_output"
   ],
   "id": "78d3d55c5e16b82e",
   "outputs": [
    {
     "data": {
      "text/plain": [
       "'what are the considerations do you have'"
      ]
     },
     "execution_count": 28,
     "metadata": {},
     "output_type": "execute_result"
    }
   ],
   "execution_count": 28
  },
  {
   "metadata": {
    "ExecuteTime": {
     "end_time": "2024-07-15T16:59:01.590106Z",
     "start_time": "2024-07-15T16:58:52.334270Z"
    }
   },
   "cell_type": "code",
   "source": [
    "response = ai_response(stt_output)\n",
    "response"
   ],
   "id": "3cdbb27eee0d6668",
   "outputs": [
    {
     "data": {
      "text/plain": [
       "{'response': \"Based on the context provided, it appears that the human is asking about the considerations one should take into account when answering questions. Here is my response:\\n\\nWhen answering questions, it's important to consider the context and background knowledge of the person asking the question. It's also important to be concise and provide clear, accurate answers that are relevant to the topic at hand. Finally, it's essential to be respectful and professional in one's response.\"}"
      ]
     },
     "execution_count": 29,
     "metadata": {},
     "output_type": "execute_result"
    }
   ],
   "execution_count": 29
  },
  {
   "metadata": {
    "ExecuteTime": {
     "end_time": "2024-07-15T16:59:37.984468Z",
     "start_time": "2024-07-15T16:59:17.135216Z"
    }
   },
   "cell_type": "code",
   "source": "ai_tts(response)",
   "id": "e746b79f78b78fc3",
   "outputs": [],
   "execution_count": 30
  },
  {
   "metadata": {
    "ExecuteTime": {
     "end_time": "2024-07-15T16:53:01.254640Z",
     "start_time": "2024-07-15T16:52:02.394768Z"
    }
   },
   "cell_type": "code",
   "source": [
    "# chat loop\n",
    "def chat_bot():\n",
    "    print(\"Transcription started...\")\n",
    "    while True:\n",
    "        stt_output = human_stt()\n",
    "        print(f\"Human: {stt_output}\")\n",
    "        \n",
    "        if stt_output == \"thanks bye\":\n",
    "            break\n",
    "            \n",
    "        response = ai_response(stt_output)\n",
    "        ai_tts(response)\n",
    "        print(f\"AI Assistant: {response['response']}\")\n",
    "        \n",
    "chat_bot()"
   ],
   "id": "7b3ed4c361edb5b5",
   "outputs": [
    {
     "name": "stdout",
     "output_type": "stream",
     "text": [
      "Transcription started...\n",
      "Human: hello how are you\n",
      "AI Assistant: I'm just an AI, I don't have feelings or emotions like humans do, so I can't truly be \"hello\" or \"how are you.\" I'm here to help with any questions you may have, though! Is there something specific you'd like to know or discuss?\n",
      "Human: yeah I want to get into gaming do you think that's a good idea\n",
      "AI Assistant:  While gaming can be a fun and engaging hobby, it's important to ensure that it doesn't interfere with other aspects of your life. Excessive gaming can lead to social isolation, poor physical health, and decreased productivity. It's essential to find a balance between gaming and other activities to maintain a healthy lifestyle.\n",
      "Human: thanks bye\n"
     ]
    }
   ],
   "execution_count": 23
  },
  {
   "metadata": {},
   "cell_type": "code",
   "outputs": [],
   "execution_count": null,
   "source": "",
   "id": "de84cea824342cff"
  }
 ],
 "metadata": {
  "kernelspec": {
   "display_name": "Python 3",
   "language": "python",
   "name": "python3"
  },
  "language_info": {
   "codemirror_mode": {
    "name": "ipython",
    "version": 2
   },
   "file_extension": ".py",
   "mimetype": "text/x-python",
   "name": "python",
   "nbconvert_exporter": "python",
   "pygments_lexer": "ipython2",
   "version": "2.7.6"
  }
 },
 "nbformat": 4,
 "nbformat_minor": 5
}
