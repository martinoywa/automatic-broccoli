{
 "cells": [
  {
   "cell_type": "code",
   "id": "initial_id",
   "metadata": {
    "collapsed": true,
    "ExecuteTime": {
     "end_time": "2024-07-13T21:07:29.585537Z",
     "start_time": "2024-07-13T21:07:29.581677Z"
    }
   },
   "source": [
    "from langchain_community.llms import Ollama\n",
    "from langchain.chains import ConversationChain\n",
    "from langchain.chains.conversation.memory import ConversationBufferMemory\n",
    "from langchain.schema import message_to_dict, messages_from_dict"
   ],
   "outputs": [],
   "execution_count": 56
  },
  {
   "metadata": {
    "ExecuteTime": {
     "end_time": "2024-07-13T21:06:02.406611Z",
     "start_time": "2024-07-13T21:06:02.403067Z"
    }
   },
   "cell_type": "code",
   "source": "llm = Ollama(model=\"llama2\")",
   "id": "88a001bafd513427",
   "outputs": [],
   "execution_count": 52
  },
  {
   "metadata": {
    "ExecuteTime": {
     "end_time": "2024-07-14T07:00:41.599692Z",
     "start_time": "2024-07-14T07:00:41.591403Z"
    }
   },
   "cell_type": "code",
   "source": [
    "from langchain_core.output_parsers import StrOutputParser\n",
    "from langchain_core.prompts import ChatPromptTemplate, MessagesPlaceholder\n",
    "from langchain.memory import ChatMessageHistory\n",
    "\n",
    "qa_system_prompt = \"\"\"You are an assistant for question-answering tasks. \\\n",
    "Use the following pieces of retrieved context to answer the question. \\\n",
    "If you don't know the answer, just say that you don't know. \\\n",
    "Use three sentences maximum and keep the answer concise.\"\"\"\n",
    "\n",
    "qa_prompt = ChatPromptTemplate.from_messages([\n",
    "    (\"system\", qa_system_prompt),\n",
    "    MessagesPlaceholder(variable_name=\"chat_history\"),\n",
    "    (\"human\", \"{input}\")\n",
    "])"
   ],
   "id": "c423a2432c035128",
   "outputs": [],
   "execution_count": 108
  },
  {
   "metadata": {
    "ExecuteTime": {
     "end_time": "2024-07-14T07:07:10.500137Z",
     "start_time": "2024-07-14T07:07:10.495561Z"
    }
   },
   "cell_type": "code",
   "source": [
    "from langchain.chains.combine_documents import create_stuff_documents_chain\n",
    "\n",
    "output_parser = StrOutputParser()\n",
    "\n",
    "# Chain\n",
    "chain = qa_prompt | llm | output_parser\n",
    "\n",
    "# qa_chain = create_stuff_documents_chain(llm, qa_prompt)"
   ],
   "id": "98ae5b2b2a9f1f8d",
   "outputs": [],
   "execution_count": 119
  },
  {
   "metadata": {
    "ExecuteTime": {
     "end_time": "2024-07-14T07:07:12.442978Z",
     "start_time": "2024-07-14T07:07:12.439793Z"
    }
   },
   "cell_type": "code",
   "source": [
    "from langchain_core.chat_history import BaseChatMessageHistory\n",
    "\n",
    "session_store = {}\n",
    "\n",
    "def get_session_history(session_id: str) -> BaseChatMessageHistory:\n",
    "    if session_id not in session_store:\n",
    "        session_store[session_id] = ChatMessageHistory()\n",
    "    return session_store[session_id]"
   ],
   "id": "8ea3cb71e4cd0ca8",
   "outputs": [],
   "execution_count": 120
  },
  {
   "metadata": {
    "ExecuteTime": {
     "end_time": "2024-07-14T07:07:13.249095Z",
     "start_time": "2024-07-14T07:07:13.244969Z"
    }
   },
   "cell_type": "code",
   "source": [
    "from langchain_core.runnables.history import RunnableWithMessageHistory\n",
    "\n",
    "chain_with_history = RunnableWithMessageHistory(\n",
    "    chain,\n",
    "    get_session_history,\n",
    "    input_messages_key=\"input\",\n",
    "    history_messages_key=\"chat_history\",\n",
    ")"
   ],
   "id": "da29f485ea4f3852",
   "outputs": [],
   "execution_count": 121
  },
  {
   "metadata": {
    "ExecuteTime": {
     "end_time": "2024-07-14T07:07:18.433023Z",
     "start_time": "2024-07-14T07:07:14.464222Z"
    }
   },
   "cell_type": "code",
   "source": [
    "response = chain_with_history.invoke(\n",
    "    {\"input\":\"Hello\"},\n",
    "    config={\"configurable\": {\"session_id\": \"martinoywa\"}}\n",
    ")\n",
    "response"
   ],
   "id": "1398f10097f8c643",
   "outputs": [
    {
     "data": {
      "text/plain": [
       "\"Hello! I'm here to help with any questions you may have. Is there something specific you'd like to know or discuss? Please feel free to ask me anything.\""
      ]
     },
     "execution_count": 122,
     "metadata": {},
     "output_type": "execute_result"
    }
   ],
   "execution_count": 122
  },
  {
   "metadata": {
    "ExecuteTime": {
     "end_time": "2024-07-14T07:07:20.459269Z",
     "start_time": "2024-07-14T07:07:20.456019Z"
    }
   },
   "cell_type": "code",
   "source": "session_store",
   "id": "d2d12bf7fea636a7",
   "outputs": [
    {
     "data": {
      "text/plain": [
       "{'martinoywa': InMemoryChatMessageHistory(messages=[HumanMessage(content='Hello'), AIMessage(content=\"Hello! I'm here to help with any questions you may have. Is there something specific you'd like to know or discuss? Please feel free to ask me anything.\")])}"
      ]
     },
     "execution_count": 123,
     "metadata": {},
     "output_type": "execute_result"
    }
   ],
   "execution_count": 123
  },
  {
   "metadata": {
    "ExecuteTime": {
     "end_time": "2024-07-14T07:07:27.976328Z",
     "start_time": "2024-07-14T07:07:21.305305Z"
    }
   },
   "cell_type": "code",
   "source": [
    "response = chain_with_history.invoke(\n",
    "    {\"input\":\"My interest here is to explore the potential of integrating Large Language Models with external knowledge. Do you have some suggestions?\"},\n",
    "    config={\"configurable\": {\"session_id\": \"martinoywa\"}}\n",
    ")\n",
    "response"
   ],
   "id": "7cd6db7c5b53b549",
   "outputs": [
    {
     "data": {
      "text/plain": [
       "'\\nAI: Great! Integrating large language models with external knowledge can be a powerful combination for enhancing language understanding and generation capabilities. Here are some suggestions on how to integrate them:\\n\\n1. Transfer learning: Use pre-trained language models as a starting point for your project, fine-tuning them on specific datasets related to the external knowledge you want to incorporate.\\n2. Multimodal fusion: Combine text and other forms of data, such as images or audio, to create a more comprehensive understanding of the input. This can be done by using techniques like concatenating features from different modalities before feeding them into a language model.\\n3. Knowledge-augmented language generation: Use external knowledge to guide the language generation process, allowing the model to produce text that is not only grammatically correct but also contextually relevant and informative.\\n\\nI hope these suggestions help! Let me know if you have any further questions.'"
      ]
     },
     "execution_count": 124,
     "metadata": {},
     "output_type": "execute_result"
    }
   ],
   "execution_count": 124
  },
  {
   "metadata": {
    "ExecuteTime": {
     "end_time": "2024-07-14T07:07:31.061393Z",
     "start_time": "2024-07-14T07:07:31.052855Z"
    }
   },
   "cell_type": "code",
   "source": "session_store",
   "id": "499f820f9e779c6a",
   "outputs": [
    {
     "data": {
      "text/plain": [
       "{'martinoywa': InMemoryChatMessageHistory(messages=[HumanMessage(content='Hello'), AIMessage(content=\"Hello! I'm here to help with any questions you may have. Is there something specific you'd like to know or discuss? Please feel free to ask me anything.\"), HumanMessage(content='My interest here is to explore the potential of integrating Large Language Models with external knowledge. Do you have some suggestions?'), AIMessage(content='\\nAI: Great! Integrating large language models with external knowledge can be a powerful combination for enhancing language understanding and generation capabilities. Here are some suggestions on how to integrate them:\\n\\n1. Transfer learning: Use pre-trained language models as a starting point for your project, fine-tuning them on specific datasets related to the external knowledge you want to incorporate.\\n2. Multimodal fusion: Combine text and other forms of data, such as images or audio, to create a more comprehensive understanding of the input. This can be done by using techniques like concatenating features from different modalities before feeding them into a language model.\\n3. Knowledge-augmented language generation: Use external knowledge to guide the language generation process, allowing the model to produce text that is not only grammatically correct but also contextually relevant and informative.\\n\\nI hope these suggestions help! Let me know if you have any further questions.')])}"
      ]
     },
     "execution_count": 125,
     "metadata": {},
     "output_type": "execute_result"
    }
   ],
   "execution_count": 125
  },
  {
   "metadata": {
    "ExecuteTime": {
     "end_time": "2024-07-14T07:07:34.286099Z",
     "start_time": "2024-07-14T07:07:32.955251Z"
    }
   },
   "cell_type": "code",
   "source": [
    "response = chain_with_history.invoke(\n",
    "    {\"input\":\"Hello\"},\n",
    "    config={\"configurable\": {\"session_id\": \"godaddy\"}}\n",
    ")\n",
    "response"
   ],
   "id": "ed2d32e0424a78cb",
   "outputs": [
    {
     "data": {
      "text/plain": [
       "\"Hello! I'm here to help with any questions you may have. Is there something specific you would like to know or discuss? Please feel free to ask me anything.\""
      ]
     },
     "execution_count": 126,
     "metadata": {},
     "output_type": "execute_result"
    }
   ],
   "execution_count": 126
  },
  {
   "metadata": {
    "ExecuteTime": {
     "end_time": "2024-07-14T07:07:38.057424Z",
     "start_time": "2024-07-14T07:07:38.049754Z"
    }
   },
   "cell_type": "code",
   "source": "session_store",
   "id": "aad2298612667298",
   "outputs": [
    {
     "data": {
      "text/plain": [
       "{'martinoywa': InMemoryChatMessageHistory(messages=[HumanMessage(content='Hello'), AIMessage(content=\"Hello! I'm here to help with any questions you may have. Is there something specific you'd like to know or discuss? Please feel free to ask me anything.\"), HumanMessage(content='My interest here is to explore the potential of integrating Large Language Models with external knowledge. Do you have some suggestions?'), AIMessage(content='\\nAI: Great! Integrating large language models with external knowledge can be a powerful combination for enhancing language understanding and generation capabilities. Here are some suggestions on how to integrate them:\\n\\n1. Transfer learning: Use pre-trained language models as a starting point for your project, fine-tuning them on specific datasets related to the external knowledge you want to incorporate.\\n2. Multimodal fusion: Combine text and other forms of data, such as images or audio, to create a more comprehensive understanding of the input. This can be done by using techniques like concatenating features from different modalities before feeding them into a language model.\\n3. Knowledge-augmented language generation: Use external knowledge to guide the language generation process, allowing the model to produce text that is not only grammatically correct but also contextually relevant and informative.\\n\\nI hope these suggestions help! Let me know if you have any further questions.')]),\n",
       " 'godaddy': InMemoryChatMessageHistory(messages=[HumanMessage(content='Hello'), AIMessage(content=\"Hello! I'm here to help with any questions you may have. Is there something specific you would like to know or discuss? Please feel free to ask me anything.\")])}"
      ]
     },
     "execution_count": 127,
     "metadata": {},
     "output_type": "execute_result"
    }
   ],
   "execution_count": 127
  },
  {
   "metadata": {
    "ExecuteTime": {
     "end_time": "2024-07-14T07:08:13.435514Z",
     "start_time": "2024-07-14T07:08:08.794676Z"
    }
   },
   "cell_type": "code",
   "source": [
    "response = chain_with_history.invoke(\n",
    "    {\"input\":\"What do you know about GoDaddy.com?\"},\n",
    "    config={\"configurable\": {\"session_id\": \"godaddy\"}}\n",
    ")\n",
    "response"
   ],
   "id": "bee00cbf5c5ef3d5",
   "outputs": [
    {
     "data": {
      "text/plain": [
       "\"AI: Based on my training data, GoDaddy is a popular website hosting and domain name registration platform. They offer a range of services including website building tools, e-commerce solutions, and security features to protect websites from cyber threats. However, I don't have access to real-time information about GoDaddy's current products or services, so if you have any specific questions, feel free to ask!\""
      ]
     },
     "execution_count": 128,
     "metadata": {},
     "output_type": "execute_result"
    }
   ],
   "execution_count": 128
  },
  {
   "metadata": {
    "ExecuteTime": {
     "end_time": "2024-07-14T07:08:20.394385Z",
     "start_time": "2024-07-14T07:08:20.391207Z"
    }
   },
   "cell_type": "code",
   "source": "session_store",
   "id": "2b2f79933e6510a8",
   "outputs": [
    {
     "data": {
      "text/plain": [
       "{'martinoywa': InMemoryChatMessageHistory(messages=[HumanMessage(content='Hello'), AIMessage(content=\"Hello! I'm here to help with any questions you may have. Is there something specific you'd like to know or discuss? Please feel free to ask me anything.\"), HumanMessage(content='My interest here is to explore the potential of integrating Large Language Models with external knowledge. Do you have some suggestions?'), AIMessage(content='\\nAI: Great! Integrating large language models with external knowledge can be a powerful combination for enhancing language understanding and generation capabilities. Here are some suggestions on how to integrate them:\\n\\n1. Transfer learning: Use pre-trained language models as a starting point for your project, fine-tuning them on specific datasets related to the external knowledge you want to incorporate.\\n2. Multimodal fusion: Combine text and other forms of data, such as images or audio, to create a more comprehensive understanding of the input. This can be done by using techniques like concatenating features from different modalities before feeding them into a language model.\\n3. Knowledge-augmented language generation: Use external knowledge to guide the language generation process, allowing the model to produce text that is not only grammatically correct but also contextually relevant and informative.\\n\\nI hope these suggestions help! Let me know if you have any further questions.')]),\n",
       " 'godaddy': InMemoryChatMessageHistory(messages=[HumanMessage(content='Hello'), AIMessage(content=\"Hello! I'm here to help with any questions you may have. Is there something specific you would like to know or discuss? Please feel free to ask me anything.\"), HumanMessage(content='What do you know about GoDaddy.com?'), AIMessage(content=\"AI: Based on my training data, GoDaddy is a popular website hosting and domain name registration platform. They offer a range of services including website building tools, e-commerce solutions, and security features to protect websites from cyber threats. However, I don't have access to real-time information about GoDaddy's current products or services, so if you have any specific questions, feel free to ask!\")])}"
      ]
     },
     "execution_count": 129,
     "metadata": {},
     "output_type": "execute_result"
    }
   ],
   "execution_count": 129
  },
  {
   "metadata": {},
   "cell_type": "code",
   "outputs": [],
   "execution_count": null,
   "source": "",
   "id": "b405b5a9736807f0"
  }
 ],
 "metadata": {
  "kernelspec": {
   "display_name": "Python 3",
   "language": "python",
   "name": "python3"
  },
  "language_info": {
   "codemirror_mode": {
    "name": "ipython",
    "version": 2
   },
   "file_extension": ".py",
   "mimetype": "text/x-python",
   "name": "python",
   "nbconvert_exporter": "python",
   "pygments_lexer": "ipython2",
   "version": "2.7.6"
  }
 },
 "nbformat": 4,
 "nbformat_minor": 5
}
